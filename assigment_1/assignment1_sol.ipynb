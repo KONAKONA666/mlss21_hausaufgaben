{
  "nbformat": 4,
  "nbformat_minor": 0,
  "metadata": {
    "kernelspec": {
      "display_name": "Python 3",
      "language": "python",
      "name": "python3"
    },
    "language_info": {
      "codemirror_mode": {
        "name": "ipython",
        "version": 3
      },
      "file_extension": ".py",
      "mimetype": "text/x-python",
      "name": "python",
      "nbconvert_exporter": "python",
      "pygments_lexer": "ipython3",
      "version": "3.8.7"
    },
    "colab": {
      "name": "assignment1.ipynb",
      "provenance": []
    }
  },
  "cells": [
    {
      "cell_type": "markdown",
      "metadata": {
        "id": "bdnNY-MtWWNV"
      },
      "source": [
        "# Assignment 1: k-nearest neighbors (100 points)\n",
        "\n",
        "Only use the already imported libraries `numpy` and `matplotlib.pyplot` for the assignment. Do not import any other library. "
      ]
    },
    {
      "cell_type": "markdown",
      "metadata": {
        "id": "MB5coet3WWNX"
      },
      "source": [
        "==> *Write*\n",
        "* *names* \n",
        "* *matr. nr.* \n",
        "* *study program*\n",
        "* *B.Sc./M.Sc.*\n",
        "\n",
        "*of all assignment group participants here.* (double klick here to edit)*"
      ]
    },
    {
      "cell_type": "code",
      "metadata": {
        "id": "dMtOUMj3WWNY"
      },
      "source": [
        "# Load required packages and dataset. Do not modify.\n",
        "import matplotlib.pyplot as plt\n",
        "import numpy as np\n",
        "\n",
        "\n",
        "def load_wine_dataset():\n",
        "    from sklearn import datasets\n",
        "    wine = datasets.load_wine()\n",
        "    X = wine.data\n",
        "    y = wine.target\n",
        "    return X, y\n",
        "    \n",
        "X, y = load_wine_dataset()\n"
      ],
      "execution_count": 2,
      "outputs": []
    },
    {
      "cell_type": "code",
      "metadata": {
        "id": "CFlUCepcgokT"
      },
      "source": [
        ""
      ],
      "execution_count": 39,
      "outputs": []
    },
    {
      "cell_type": "code",
      "metadata": {
        "colab": {
          "base_uri": "https://localhost:8080/"
        },
        "id": "-bw8EUTdgwTr",
        "outputId": "16ca5a1c-79e3-4e9b-dbe4-46a90002de45"
      },
      "source": [
        ""
      ],
      "execution_count": 41,
      "outputs": [
        {
          "output_type": "execute_result",
          "data": {
            "text/plain": [
              "['alcohol',\n",
              " 'malic_acid',\n",
              " 'ash',\n",
              " 'alcalinity_of_ash',\n",
              " 'magnesium',\n",
              " 'total_phenols',\n",
              " 'flavanoids',\n",
              " 'nonflavanoid_phenols',\n",
              " 'proanthocyanins',\n",
              " 'color_intensity',\n",
              " 'hue',\n",
              " 'od280/od315_of_diluted_wines',\n",
              " 'proline']"
            ]
          },
          "metadata": {
            "tags": []
          },
          "execution_count": 41
        }
      ]
    },
    {
      "cell_type": "markdown",
      "metadata": {
        "id": "x7EqfXH3WWNY"
      },
      "source": [
        "## Task 1: Visualization and Preprocessing (25 points)\n",
        "\n",
        "1) *(5 Points)* Explain the content of the dataset in few words. What are the input features? What is the classification target? Check out: [http://archive.ics.uci.edu/ml/datasets/Wine).\n"
      ]
    },
    {
      "cell_type": "markdown",
      "metadata": {
        "id": "40vjINSyWWNZ"
      },
      "source": [
        "==> *Write your response here.* (double klick here to edit)"
      ]
    },
    {
      "cell_type": "markdown",
      "metadata": {
        "id": "zwQvOgnZWWNZ"
      },
      "source": [
        "\n",
        "\n",
        "```\n",
        "# This is formatted as code\n",
        "```\n",
        "\n",
        "2) *(5 Points)* Compute and print the following statistics about the dataset:\n",
        "  - Number of samples\n",
        "  - Number of samples per class\n",
        "  - Mean and standard deviation for each input feature\n"
      ]
    },
    {
      "cell_type": "code",
      "metadata": {
        "id": "suOs_kyxWWNZ",
        "colab": {
          "base_uri": "https://localhost:8080/"
        },
        "outputId": "8bcac2f1-64c5-4842-c423-2f08adfbf2b3"
      },
      "source": [
        "# Implement your solution here.\n",
        "np.random.seed(42)\n",
        "\n",
        "print(y.shape[0])\n",
        "print(\"Samples per class: {}\".format(np.bincount(y)))\n",
        "means = X.mean(axis=0)\n",
        "stds = X.std(axis=0)\n",
        "print(\"(Mean, Std): {}\".format(list(zip(means, stds))))"
      ],
      "execution_count": 46,
      "outputs": [
        {
          "output_type": "stream",
          "text": [
            "178\n",
            "Samples per class: [59 71 48]\n",
            "(Mean, Std): [(13.000617977528083, 0.809542914528517), (2.336348314606741, 1.1140036269797895), (2.3665168539325854, 0.2735722944264325), (19.49494382022472, 3.330169757658213), (99.74157303370787, 14.242307673359807), (2.295112359550562, 0.6240905641965366), (2.0292696629213474, 0.9960489503792328), (0.36185393258426973, 0.12410325988364797), (1.5908988764044953, 0.5707488486199377), (5.058089882022473, 2.3117646609525573), (0.9574494382022468, 0.2279286065650725), (2.6116853932584254, 0.7079932646716006), (746.8932584269663, 314.0216568419877)]\n"
          ],
          "name": "stdout"
        }
      ]
    },
    {
      "cell_type": "markdown",
      "metadata": {
        "id": "4PUlhg_lWWNZ"
      },
      "source": [
        "3) *(5 Points)* Visualize the variables *alcohol* and *magnesium* in a scatter plot (*alcohol* on the x-axis, *magnesium* on the y-axis). Color each point of the plot according to its class."
      ]
    },
    {
      "cell_type": "code",
      "metadata": {
        "id": "6hciZMyKWWNa",
        "colab": {
          "base_uri": "https://localhost:8080/",
          "height": 300
        },
        "outputId": "f8f1b388-439c-4351-ad31-7ac469c715ce"
      },
      "source": [
        "plt.scatter(X[:, 0], X[:, 4], c=y)\n",
        "plt.colorbar()\n",
        "plt.xlabel(\"alcohol\")\n",
        "plt.ylabel(\"magnesium\")"
      ],
      "execution_count": 49,
      "outputs": [
        {
          "output_type": "execute_result",
          "data": {
            "text/plain": [
              "Text(0, 0.5, 'magnesium')"
            ]
          },
          "metadata": {
            "tags": []
          },
          "execution_count": 49
        },
        {
          "output_type": "display_data",
          "data": {
            "image/png": "[encoded data removed]",
            "text/plain": [
              "<Figure size 432x288 with 2 Axes>"
            ]
          },
          "metadata": {
            "tags": [],
            "needs_background": "light"
          }
        }
      ]
    },
    {
      "cell_type": "code",
      "metadata": {
        "id": "EuoiozF0hDJu"
      },
      "source": [
        ""
      ],
      "execution_count": 4,
      "outputs": []
    },
    {
      "cell_type": "markdown",
      "metadata": {
        "id": "TXqT9G40WWNa"
      },
      "source": [
        "4) *(5 Points)* Split the dataset randomly into training and test data. 70% of data should be used for training and 30% should be used for testing. Implement the function `train_test_split`. Do not modify the interface of the function."
      ]
    },
    {
      "cell_type": "code",
      "metadata": {
        "scrolled": true,
        "id": "ZKpavZE0WWNa"
      },
      "source": [
        "def train_test_split(X, y):\n",
        "    \"\"\"\n",
        "    Returns X_train, X_test, y_train, y_test, \n",
        "        where X_train and X_test are the input features of the training and test set,\n",
        "        and y_train and y_test are the class labels of the training and test set.\n",
        "    \"\"\"\n",
        "\n",
        "    indexes = np.arange(X.shape[0])\n",
        "    np.random.shuffle(indexes)\n",
        "    train_indexes = indexes[:int(X.shape[0]*0.7)]\n",
        "    test_indexes = indexes[int(X.shape[0]*0.7):]\n",
        "\n",
        "    return X[train_indexes], X[test_indexes], y[train_indexes], y[test_indexes]\n",
        "\n",
        "X_train, X_test, y_train, y_test = train_test_split(X, y)\n",
        "\n",
        "assert (X_train.shape[0] + X_test.shape[0]) == X.shape[0]\n",
        "assert (y_train.shape[0] + y_test.shape[0]) == y.shape[0]\n",
        "assert X_train.shape[1] == X_test.shape[1]"
      ],
      "execution_count": 5,
      "outputs": []
    },
    {
      "cell_type": "code",
      "metadata": {
        "id": "MaD9BI7eiUsp"
      },
      "source": [
        ""
      ],
      "execution_count": 5,
      "outputs": []
    },
    {
      "cell_type": "code",
      "metadata": {
        "id": "lRJdf7ZnibcN"
      },
      "source": [
        "def min_max_scaler(data, inplace=False):\n",
        "  mins = data.min(axis=0)\n",
        "  maxs = data.max(axis=0)\n",
        "  diffs = maxs - mins\n",
        "  if inplace:\n",
        "    data -= mins[np.newaxis, :]\n",
        "    data /= diffs[np.newaxis, :]\n",
        "    return\n",
        "  return (data-mins[np.newaxis, :])/diffs[np.newaxis, :]"
      ],
      "execution_count": 6,
      "outputs": []
    },
    {
      "cell_type": "markdown",
      "metadata": {
        "id": "mxx7D9EsWWNb"
      },
      "source": [
        "5) *(5 Points)* kNN uses a distance measure to identify close neighbors. If the input features are not of the same scale, the distance is not as meaningful, which can negatively impact classification performance. Perform min-max scaling (i.e. scale the values of the input features in such a way that their range is from 0 to 1) on the training and test data. Remember that you should only use information from the training data to perform the scaling on both data sets."
      ]
    },
    {
      "cell_type": "code",
      "metadata": {
        "id": "BHpE3xEkWWNb"
      },
      "source": [
        "min_max_scaler(X_train, True)\n",
        "min_max_scaler(X_test, True)"
      ],
      "execution_count": 36,
      "outputs": []
    },
    {
      "cell_type": "code",
      "metadata": {
        "colab": {
          "base_uri": "https://localhost:8080/"
        },
        "id": "2MNlMREHl4i-",
        "outputId": "7713cb60-9822-4ab6-8009-7d2e980a7113"
      },
      "source": [
        "X_train.mean(axis=0), X.std(axis=0)"
      ],
      "execution_count": 37,
      "outputs": [
        {
          "output_type": "execute_result",
          "data": {
            "text/plain": [
              "(array([0.49191134, 0.3273301 , 0.45012733, 0.43782518, 0.41351099,\n",
              "        0.46212458, 0.47189774, 0.46032258, 0.37356263, 0.31273993,\n",
              "        0.45001772, 0.4782583 , 0.34815502]),\n",
              " array([8.09542915e-01, 1.11400363e+00, 2.73572294e-01, 3.33016976e+00,\n",
              "        1.42423077e+01, 6.24090564e-01, 9.96048950e-01, 1.24103260e-01,\n",
              "        5.70748849e-01, 2.31176466e+00, 2.27928607e-01, 7.07993265e-01,\n",
              "        3.14021657e+02]))"
            ]
          },
          "metadata": {
            "tags": []
          },
          "execution_count": 37
        }
      ]
    },
    {
      "cell_type": "code",
      "metadata": {
        "colab": {
          "base_uri": "https://localhost:8080/"
        },
        "id": "Nvhx4hh2kmWM",
        "outputId": "05007761-56a6-4a47-fa33-2fff81134dcf"
      },
      "source": [
        ""
      ],
      "execution_count": 35,
      "outputs": [
        {
          "output_type": "execute_result",
          "data": {
            "text/plain": [
              "array([0.49191134, 0.3273301 , 0.45012733, 0.43782518, 0.41351099,\n",
              "       0.46212458, 0.47189774, 0.46032258, 0.37356263, 0.31273993,\n",
              "       0.45001772, 0.4782583 , 0.34815502])"
            ]
          },
          "metadata": {
            "tags": []
          },
          "execution_count": 35
        }
      ]
    },
    {
      "cell_type": "markdown",
      "metadata": {
        "id": "gKoqzL1HWWNb"
      },
      "source": [
        "## Task 2: k-nearest neighbors (50 Points)\n",
        "*Choose classes randomly if weights are equal for multiple classes*\n",
        "\n",
        "**For B.Sc. Data Science:**  \n",
        "\n",
        "Implement the kNN algorithm with uniform weighting and arbitrary `k`. Fill out the `predict` method of class `KNearestNeighbors`. \n",
        "\n",
        "Use Euclidean distance to determine the nearest neighbors.\n",
        "You can ignore the optional parameter `weights`, which is provided as a field in the kNN class.\n",
        "\n",
        "**For all students other than B.Sc. Data Science:**\n",
        "\n",
        "Implement the kNN algorithm with uniform and distance-based weighting and arbitrary `k`.\n",
        "Fill out the `predict` method of class `KNearestNeighbors`.\n",
        "\n",
        "The parameter `weights` will either contain the string `uniform` or `distance`. \n",
        "- If the value is `uniform`, the classifier should use the Euclidean distance for determining nearest neighbors and uniform weighting. \n",
        "- If the value is a `distance`, the classifier should use the Euclidean distance for determining neares neighbors and perform distance-weighted classification."
      ]
    },
    {
      "cell_type": "code",
      "metadata": {
        "id": "8uBbk9gbWWNc"
      },
      "source": [
        "class KNearestNeighbors(object):\n",
        "    def __init__(self, k, weights='uniform'):\n",
        "        self.k = k\n",
        "        self.weights = weights\n",
        "        \n",
        "    def fit(self, X, y):\n",
        "        \"\"\"\n",
        "        This functions saves the training data to be used during the prediction.\n",
        "        \"\"\"\n",
        "        self.X = X\n",
        "        self.y = y\n",
        "    \n",
        "    def calculate_distances(self, X_input, dist_func):\n",
        "      distances = np.zeros((X_input.shape[0], self.X.shape[0]), np.float32)\n",
        "      for i in range(X_input.shape[0]):\n",
        "        for j in range(self.X.shape[0]):\n",
        "          distances[i, j] = dist_func(X_input[i], self.X[j])\n",
        "      return distances  \n",
        "\n",
        "    def get_neighbors(self, distances):\n",
        "      k_neighbors_indexes = np.argsort(distances)[:self.k]\n",
        "      return distances[k_neighbors_indexes], self.y[k_neighbors_indexes]   \n",
        "\n",
        "    def predict(self, X):\n",
        "        \"\"\"\n",
        "        Returns a vector of shape (n,) if X has shape (n,d), \n",
        "        where n is the number of samples and d is the number of features.\n",
        "        \"\"\"\n",
        "        # Implement your solution here.\n",
        "\n",
        "        weight_func = None\n",
        "        if self.weights == 'uniform':\n",
        "          weight_func = uniform_weights\n",
        "        elif self.weights == 'distance':\n",
        "          weight_func = distance_weights\n",
        "        else:\n",
        "          raise NotImplementedError(\"Not supported weights\")\n",
        "        \n",
        "\n",
        "        distances = self.calculate_distances(X, euclidean_distance) #(n, N)\n",
        "        predicts = np.zeros((X.shape[0], ), np.int) # (n, )\n",
        "        for i in range(X.shape[0]):\n",
        "          current_distances, current_labels = self.get_neighbors(distances[i])\n",
        "          weights = weight_func(current_labels, current_distances).sum(axis=0)\n",
        "          predicts[i] = np.argmax(weights)\n",
        "        \n",
        "        return predicts\n",
        "          \n",
        "\n",
        "\n",
        "def uniform_weights(labels, distances):\n",
        "  weights = np.zeros((labels.shape[0], 3), np.float32)\n",
        "  indexes = np.arange(labels.shape[0])\n",
        "  weights[indexes, labels] = 1\n",
        "\n",
        "  return weights\n",
        "\n",
        "#when x = 0, K(x) is NaN(inf)\n",
        "#def K(x):\n",
        "#  return 1/x\n",
        "\n",
        "def K(x):\n",
        "  return 1/np.sqrt(2*np.pi)*np.exp(-x*x/2)\n",
        "\n",
        "\n",
        "def distance_weights(labels, distances):\n",
        "  weights = uniform_weights(labels, distances)\n",
        "  weights *= K(distances[:, np.newaxis])\n",
        "\n",
        "  return weights\n",
        "\n",
        "  \n",
        "\n",
        "def euclidean_distance(x1, x2):\n",
        "    \"\"\"\n",
        "    Given vectors x1 and x2 with shape (n,) returns distance between vectors as float.\n",
        "    \"\"\"\n",
        "    return np.sqrt(np.sum((x1 - x2)*(x1 - x2)))"
      ],
      "execution_count": 56,
      "outputs": []
    },
    {
      "cell_type": "code",
      "metadata": {
        "id": "yPTw3qZPNz2x"
      },
      "source": [
        "labels = np.array([0, 1, 1, 2])\n",
        "distances = np.array([12.4, 10, 8.1, 2])\n",
        "weights = distance_weights(labels, distances)"
      ],
      "execution_count": 57,
      "outputs": []
    },
    {
      "cell_type": "code",
      "metadata": {
        "id": "_tWf3kfQOvRy"
      },
      "source": [
        ""
      ],
      "execution_count": 57,
      "outputs": []
    },
    {
      "cell_type": "code",
      "metadata": {
        "colab": {
          "base_uri": "https://localhost:8080/"
        },
        "id": "wn0wvddRjmYf",
        "outputId": "f031d8d4-2aed-4b57-bc2e-32cfccc80c72"
      },
      "source": [
        "weights"
      ],
      "execution_count": 58,
      "outputs": [
        {
          "output_type": "execute_result",
          "data": {
            "text/plain": [
              "array([[1.6306108e-34, 0.0000000e+00, 0.0000000e+00],\n",
              "       [0.0000000e+00, 7.6945985e-23, 0.0000000e+00],\n",
              "       [0.0000000e+00, 2.2588094e-15, 0.0000000e+00],\n",
              "       [0.0000000e+00, 0.0000000e+00, 5.3990968e-02]], dtype=float32)"
            ]
          },
          "metadata": {
            "tags": []
          },
          "execution_count": 58
        }
      ]
    },
    {
      "cell_type": "code",
      "metadata": {
        "colab": {
          "base_uri": "https://localhost:8080/"
        },
        "id": "KENlRw7pmtww",
        "outputId": "ca3ea3c0-2e98-4820-e518-dc1085efd832"
      },
      "source": [
        "distances[:, np.newaxis]"
      ],
      "execution_count": 59,
      "outputs": [
        {
          "output_type": "execute_result",
          "data": {
            "text/plain": [
              "array([[12.4],\n",
              "       [10. ],\n",
              "       [ 8.1],\n",
              "       [ 2. ]])"
            ]
          },
          "metadata": {
            "tags": []
          },
          "execution_count": 59
        }
      ]
    },
    {
      "cell_type": "markdown",
      "metadata": {
        "id": "nnyz_ET8WWNc"
      },
      "source": [
        "\n",
        "## Task 3: Evaluation (25 Points)\n",
        "\n",
        "1) *(10 Points)* Implement functions to compute precision, recall and F1-score. `y_pred` and `y_true` are the vectors of predicted and true class labels respectively with shape `(n,)`, where `n` is the number of samples. Each function should return a float containing the corresponding score. It is advisable to implement a function for the confusion matrix and reuse it."
      ]
    },
    {
      "cell_type": "code",
      "metadata": {
        "id": "m0_Ds1c3WWNd"
      },
      "source": [
        "def confusion_matrix(y_pred, y_true):\n",
        "  M = np.zeros((3, 3))\n",
        "  for i in range(y_pred.shape[0]):\n",
        "    M[y_pred[i], y_true[i]] += 1\n",
        "  return M\n",
        "\n",
        "\n",
        "def precision(y_pred, y_true):\n",
        "  M = confusion_matrix(y_pred, y_true)\n",
        "  return (np.diag(M)/M.sum(axis=0)).mean()\n",
        "\n",
        "\n",
        "def recall(y_pred, y_true):\n",
        "    # Implement your solution here.\n",
        "    M = confusion_matrix(y_pred, y_true)\n",
        "    return (np.diag(M)/M.sum(axis=1)).mean()\n",
        "\n",
        "def f1score(y_pred, y_true):\n",
        "  p = precision(y_pred, y_true)\n",
        "  r = recall(y_pred, y_true)\n",
        "  return 2*(p*r)/(p+r)"
      ],
      "execution_count": 60,
      "outputs": []
    },
    {
      "cell_type": "markdown",
      "metadata": {
        "id": "CGL6MbqxWWNe"
      },
      "source": [
        "2) *(10 Points)* Evaluate the performance of kNN with uniform weighting on the Wine dataset for `k=1,5,9`. Train each of the `3` classifiers on the training data from Task 1. Perform the predictions on both the training and test data. Then compute precision, recall, and F1-score for each model and for both training and test data. Visualize the performance in a plot, what do you observe?\n",
        "\n",
        "**For all students other than B.Sc. Data Science:** \n",
        "\n",
        "Also evaluate the kNN classifier with Euclidean distance-weighting. Compare the performance to uniform-weighting. How does the performance change compared to uniform weighting for each `k`?"
      ]
    },
    {
      "cell_type": "code",
      "metadata": {
        "id": "yt7QdkdgWWNe",
        "colab": {
          "base_uri": "https://localhost:8080/",
          "height": 641
        },
        "outputId": "fcc7adb1-dd86-4e6b-efb3-3d88bf51a290"
      },
      "source": [
        "ks = [1, 5, 9, 15, 100, 200]\n",
        "figure, axis = plt.subplots(2, 2)\n",
        "figure.set_size_inches(10, 10)\n",
        "for i,w in enumerate(['uniform', 'distance']):\n",
        "  f1s_test = []\n",
        "  f1s_train = []\n",
        "  for k in ks:\n",
        "    knn = KNearestNeighbors(k, w)\n",
        "    knn.fit(X_train, y_train)\n",
        "    y_pred = knn.predict(X_test)\n",
        "    y_pred_train = knn.predict(X_train)\n",
        "    f1s_test.append(f1score(y_pred, y_test))\n",
        "    f1s_train.append(f1score(y_pred_train, y_train))\n",
        "  axis[0, i].plot(ks, f1s_train)\n",
        "  axis[1, i].plot(ks, f1s_test)\n",
        "  axis[0, i].set_title(w+' train')\n",
        "  axis[1, i].set_title(w+' test')\n",
        "plt.show()"
      ],
      "execution_count": 62,
      "outputs": [
        {
          "output_type": "stream",
          "text": [
            "/usr/local/lib/python3.7/dist-packages/ipykernel_launcher.py:16: RuntimeWarning: invalid value encountered in true_divide\n",
            "  app.launch_new_instance()\n"
          ],
          "name": "stderr"
        },
        {
          "output_type": "display_data",
          "data": {
            "image/png": "[encoded data removed]",
            "text/plain": [
              "<Figure size 720x720 with 4 Axes>"
            ]
          },
          "metadata": {
            "tags": [],
            "needs_background": "light"
          }
        }
      ]
    },
    {
      "cell_type": "code",
      "metadata": {
        "colab": {
          "base_uri": "https://localhost:8080/"
        },
        "id": "arHnGz3nAw16",
        "outputId": "8217dd9e-5884-456f-aa35-8a36b9ddd2be"
      },
      "source": [
        ""
      ],
      "execution_count": 144,
      "outputs": [
        {
          "output_type": "execute_result",
          "data": {
            "text/plain": [
              "array([0, 1, 1, 1, 0, 2, 1, 1, 2, 1, 0, 2, 1, 2, 0, 2, 1, 1, 2, 1, 0, 0,\n",
              "       0, 1, 0, 0, 2, 0, 0, 0, 0, 0, 2, 2, 0, 1, 0, 2, 0, 2, 1, 1, 1, 0,\n",
              "       2, 1, 0, 1, 1, 2, 1, 2, 0, 0])"
            ]
          },
          "metadata": {
            "tags": []
          },
          "execution_count": 144
        }
      ]
    },
    {
      "cell_type": "markdown",
      "metadata": {
        "id": "U1OS-xlqWWNe"
      },
      "source": [
        "==> *Write your observations here and report your results.* (double klick here to edit)"
      ]
    },
    {
      "cell_type": "markdown",
      "metadata": {
        "id": "vSe5KYgBWWNe"
      },
      "source": [
        "**3**) *(5 Points)* Explain why kNN with `k=1` achieves perfect results on the training data. Why is it not the best model?"
      ]
    },
    {
      "cell_type": "markdown",
      "metadata": {
        "id": "0sJRKhqkWWNf"
      },
      "source": [
        "==> *Write your response here.* (double klick here to edit)\n",
        "\n",
        "overfitting: the closest point is itself, because we have this point in training dataset, therefore it returns own label. "
      ]
    },
    {
      "cell_type": "code",
      "metadata": {
        "id": "IUeqAzdWEdWe"
      },
      "source": [
        ""
      ],
      "execution_count": null,
      "outputs": []
    }
  ]
}